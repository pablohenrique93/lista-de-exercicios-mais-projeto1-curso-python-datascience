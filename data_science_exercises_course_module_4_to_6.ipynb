{
  "nbformat": 4,
  "nbformat_minor": 0,
  "metadata": {
    "colab": {
      "provenance": [],
      "toc_visible": true,
      "authorship_tag": "ABX9TyNwO7oUcRpk7zOmOPqsywb5",
      "include_colab_link": true
    },
    "kernelspec": {
      "name": "python3",
      "display_name": "Python 3"
    },
    "language_info": {
      "name": "python"
    }
  },
  "cells": [
    {
      "cell_type": "markdown",
      "metadata": {
        "id": "view-in-github",
        "colab_type": "text"
      },
      "source": [
        "<a href=\"https://colab.research.google.com/github/pablohenrique93/lista-de-exercicios-mais-projeto1-curso-python-datascience/blob/main/data_science_exercises_course_module_4_to_6.ipynb\" target=\"_parent\"><img src=\"https://colab.research.google.com/assets/colab-badge.svg\" alt=\"Open In Colab\"/></a>"
      ]
    },
    {
      "cell_type": "markdown",
      "source": [
        "# Lista de Exercícios 1 - Módulo 4"
      ],
      "metadata": {
        "id": "KHnCcbQ1GQfq"
      }
    },
    {
      "cell_type": "code",
      "execution_count": null,
      "metadata": {
        "id": "w7m4OQWwGHvg"
      },
      "outputs": [],
      "source": [
        "# Exercício 1 - Imprima na tela os números de 1 a 10. Use uma lista para armazenar os números.\n",
        "\n",
        "lista = [1, 2, 3, 4, 5, 6, 7, 8, 9, 10]\n",
        "print(lista)"
      ]
    },
    {
      "cell_type": "code",
      "source": [
        "# Exercício 2 - Crie uma lista de 5 objetos e imprima na tela\n",
        "\n",
        "lista_obj = ['Prato', 'Colher', 'Garfo', 'Faca','Cozinha']\n",
        "type(lista_obj)\n",
        "print(lista_obj)"
      ],
      "metadata": {
        "id": "jpE6ElK5HJPg"
      },
      "execution_count": null,
      "outputs": []
    },
    {
      "cell_type": "code",
      "source": [
        "# Exercício 3 - Crie duas strings e concatene as duas em uma terceira string\n",
        "\n",
        "nome1 = 'Pablo'\n",
        "nome2 = 'Henrique'\n",
        "\n",
        "nome_completo = nome1 + ' ' + nome2\n",
        "print(nome_completo)\n",
        "\n",
        "type(nome_completo)"
      ],
      "metadata": {
        "id": "9F6gq1HrHwR3"
      },
      "execution_count": null,
      "outputs": []
    },
    {
      "cell_type": "code",
      "source": [
        "# Exercício 4 - Crie uma tupla com os seguintes elementos: 1, 2, 2, 3, 4, 4, 4, 5 e depois utilize a função count do\n",
        "# objeto tupla para verificar quantas vezes o número 4 aparece na tupla\n",
        "\n",
        "tupla = (1, 2, 2, 3, 4, 4, 4, 5)\n",
        "type(tupla)\n",
        "tupla.count(4)"
      ],
      "metadata": {
        "id": "1nGwmUJRIZLv"
      },
      "execution_count": null,
      "outputs": []
    },
    {
      "cell_type": "code",
      "source": [
        "# Exercício 5 - Crie um dicionário vazio e imprima na tela\n",
        "\n",
        "dicionario = {}\n",
        "print(dicionario)\n",
        "type(dicionario)"
      ],
      "metadata": {
        "id": "3TezUL0-JFzf"
      },
      "execution_count": null,
      "outputs": []
    },
    {
      "cell_type": "code",
      "source": [
        "# Exercício 6 - Crie um dicionário com 3 chaves e 3 valores e imprima na tela\n",
        "\n",
        "dicionario2 = {'Pablo': 1, 'Breno': 2, 'Mauricio': 3}\n",
        "type(dicionario2)\n",
        "print(dicionario2)"
      ],
      "metadata": {
        "id": "NyOWiyNsJcSA"
      },
      "execution_count": null,
      "outputs": []
    },
    {
      "cell_type": "code",
      "source": [
        "# Exercício 7 - Adicione mais um elemento ao dicionário criado no exercício anterior e imprima na tela\n",
        "\n",
        "dicionario2['Vinicius'] = 4\n",
        "print(dicionario2)"
      ],
      "metadata": {
        "id": "0DWBTv9HKatP"
      },
      "execution_count": null,
      "outputs": []
    },
    {
      "cell_type": "code",
      "source": [
        "# Exercício 8 - Crie um dicionário com 3 chaves e 3 valores.\n",
        "# Um dos valores deve ser uma lista de 2 elementos numéricos.\n",
        "# Imprima o dicionário na tela.\n",
        "\n",
        "dicionario3 = {'Binha':[1,2], 'Leone': 3, 'Ana': 4}\n",
        "print(dicionario3)"
      ],
      "metadata": {
        "id": "I902ofhmLazg"
      },
      "execution_count": null,
      "outputs": []
    },
    {
      "cell_type": "code",
      "source": [
        "# Exercício 9 - Crie uma lista de 4 elementos. O primeiro elemento deve ser uma string,\n",
        "# o segundo uma tupla de 2 elementos, o terceiro um dicionário com 2 chaves e 2 valores e\n",
        "# o quarto elemento um valor do tipo float.\n",
        "# Imprima a lista.\n",
        "\n",
        "lista2 = ['Pablo', (1,2), {'Pablo': 29, 'Breno': 23}, 3.5 ]\n",
        "print(lista2)"
      ],
      "metadata": {
        "id": "jN_BbxukL-7X"
      },
      "execution_count": null,
      "outputs": []
    },
    {
      "cell_type": "code",
      "source": [
        "# Exercício 10 - Considere a string abaixo. Imprima na tela apenas os caracteres da posição 1 a 18.\n",
        "frase = 'Cientista de Dados é o profissional mais sexy do século XXI'\n",
        "\n",
        "print(frase[0:18])"
      ],
      "metadata": {
        "id": "zTHUvfwJMUSA"
      },
      "execution_count": null,
      "outputs": []
    },
    {
      "cell_type": "markdown",
      "source": [
        "# Calculadora em Python - Laboratório 2 - Módulo 5"
      ],
      "metadata": {
        "id": "YmXNLTBqRTtm"
      }
    },
    {
      "cell_type": "code",
      "source": [
        "numero1 = 0\n",
        "numero2 = 0\n",
        "resultado = 0\n",
        "operacao = ''\n",
        "continuar = 'S'\n",
        "\n",
        "while continuar == 'S':\n",
        "  numero1 = int(input('Digite o número 1: '))\n",
        "  operacao = input('Digite a operação: ')\n",
        "  numero2 = int(input('Digite o número 2: '))\n",
        "\n",
        "  if operacao == '+':\n",
        "    resultado = numero1 + numero2\n",
        "  elif operacao == '-':\n",
        "    resultado = numero1 - numero2\n",
        "  elif operacao == '*':\n",
        "    resultado = numero1 * numero2\n",
        "  elif operacao == '/':\n",
        "    resultado = numero1 / numero2\n",
        "  else:\n",
        "    resultado = 'Operação Inválida'\n",
        "\n",
        "  print(str(numero1) + ' ' + str(operacao) + ' ' + str(numero2) + ' = ' + str(resultado))\n",
        "\n",
        "  continuar = input('Deseja realizar mais alguma operação? (S/N): ')\n",
        "\n",
        "print(\"Ok, muito obrigado. Até a próxima!\")"
      ],
      "metadata": {
        "id": "Dw836z38RXj9"
      },
      "execution_count": null,
      "outputs": []
    },
    {
      "cell_type": "markdown",
      "source": [
        "# Lista de Exercícios 2 - Módulo 5"
      ],
      "metadata": {
        "id": "WCZHOZIJSY31"
      }
    },
    {
      "cell_type": "code",
      "source": [
        "# Exercício 1 - Crie uma função que imprima a sequência de números pares entre 1 e 20 (a função não recebe parâmetro)\n",
        "# e depois faça uma chamada à função para listar os números\n",
        "\n",
        "def imprime_pares():\n",
        "    for i in range(1, 21):\n",
        "        if i % 2 == 0:\n",
        "            print(i)\n",
        "imprime_pares()"
      ],
      "metadata": {
        "id": "btfxCrCZTc8i"
      },
      "execution_count": null,
      "outputs": []
    },
    {
      "cell_type": "code",
      "source": [
        "# Exercício 2 - Crie uam função que receba uma string como argumento e retorne a mesma string em letras maiúsculas.\n",
        "# Faça uma chamada à função, passando como parâmetro uma string\n",
        "\n",
        "def func_string(texto):\n",
        "    texto_em_maiusculas = texto.upper()\n",
        "    print(texto_em_maiusculas)"
      ],
      "metadata": {
        "id": "vZMrFUQWVpnt"
      },
      "execution_count": null,
      "outputs": []
    },
    {
      "cell_type": "code",
      "source": [
        "func_string('convertendo strings em letras maiúsculas')"
      ],
      "metadata": {
        "id": "WNE8ZcZWWZsc"
      },
      "execution_count": null,
      "outputs": []
    },
    {
      "cell_type": "code",
      "source": [
        "# Exercício 3 - Crie uma função que receba como parâmetro uma lista de 4 elementos, adicione 2 elementos a lista e\n",
        "# imprima a lista\n",
        "\n",
        "def adicionar_elementos(lista):\n",
        "    print(lista.append(5))\n",
        "    print(lista.append(6))\n",
        "\n",
        "lista1 = [1, 2, 3, 4]\n",
        "adicionar_elementos(lista1)\n",
        "print(lista1)\n"
      ],
      "metadata": {
        "id": "keAEz2RQXBI-"
      },
      "execution_count": null,
      "outputs": []
    },
    {
      "cell_type": "code",
      "source": [
        "# Exercício 4 - Crie uma função que receba um argumento formal e uma possível lista de elementos. Faça duas chamadas\n",
        "# à função, com apenas 1 elemento e na segunda chamada com 4 elementos\n",
        "\n",
        "def argumento(lista_elementos, varios_elementos= []):\n",
        "    print(lista_elementos)"
      ],
      "metadata": {
        "id": "dJDA9WUmX1Q0"
      },
      "execution_count": null,
      "outputs": []
    },
    {
      "cell_type": "code",
      "source": [
        "# Chamada da função com 1 elemento\n",
        "um_elemento = ['Atividades do Dia']\n",
        "argumento(um_elemento)\n",
        "# Chamada da função com 4 elementos\n",
        "lista_elementos = ['correr', 'limpar bichos', 'estudar', 'treinar']\n",
        "argumento(lista_elementos)"
      ],
      "metadata": {
        "id": "8YdgYt96Y2rv"
      },
      "execution_count": null,
      "outputs": []
    },
    {
      "cell_type": "code",
      "source": [
        "# Exercício 5 - Crie uma função anônima e atribua seu retorno a uma variável chamada soma. A expressão vai receber 2\n",
        "# números como parâmetro e retornar a soma deles\n",
        "\n",
        "soma = lambda arg1, arg2: arg1 + arg2\n",
        "print (\"A soma é : \", soma( 452, 298 ))"
      ],
      "metadata": {
        "id": "7n428E4AcVkG"
      },
      "execution_count": null,
      "outputs": []
    },
    {
      "cell_type": "code",
      "source": [
        "# Exercício 6 - Execute o código abaixo e certifique-se que compreende a diferença entre variável global e local\n",
        "total = 0\n",
        "def soma( arg1, arg2 ):\n",
        "    total = arg1 + arg2;\n",
        "    print (\"Dentro da função o total é: \", total)\n",
        "    return total;\n",
        "\n",
        "\n",
        "soma( 10, 20 );\n",
        "print (\"Fora da função o total é: \", total)"
      ],
      "metadata": {
        "id": "oAorkMUzdbDM"
      },
      "execution_count": null,
      "outputs": []
    },
    {
      "cell_type": "code",
      "source": [
        "# Exercício 7 - Abaixo você encontra uma lista com temperaturas em graus Celsius\n",
        "# Crie uma função anônima que converta cada temperatura para Fahrenheit\n",
        "# Dica: para conseguir realizar este exercício, você deve criar sua função lambda, dentro de uma função\n",
        "# (que será estudada no próximo capítulo). Isso permite aplicar sua função a cada elemento da lista\n",
        "# Como descobrir a fórmula matemática que converte de Celsius para Fahrenheit? Pesquise!!!\n",
        "\n",
        "# Celsius = [39.2, 36.5, 37.3, 37.8]\n",
        "# Fahrenheit = map(coloque_aqui_sua_função_lambda)\n",
        "# print (list(Fahrenheit))\n",
        "\n",
        "# Solução\n",
        "Celsius = [39.2, 36.5, 37.3, 37.8]\n",
        "Fahrenheit = map(lambda c: (c * 9/5) + 32, Celsius)\n",
        "print(list(Fahrenheit))\n",
        "\n"
      ],
      "metadata": {
        "id": "Hd_SU1iTdysE"
      },
      "execution_count": null,
      "outputs": []
    },
    {
      "cell_type": "code",
      "source": [
        "# Exercício 8 - Crie uma list comprehension que imprima o quadrado dos números de 1 a 10\n",
        "\n",
        "[x**2 for x in range(1,11)]\n"
      ],
      "metadata": {
        "id": "-QmO0VtZej88"
      },
      "execution_count": null,
      "outputs": []
    },
    {
      "cell_type": "code",
      "source": [
        "# Exercício 9 - Crie uma list comprehension que imprima as palavras com a letra a no nome\n",
        "\n",
        "palavras = [\"maça\", \"coiote\", \"banana\", \"terreno\", \"Python\"]\n",
        "resultado = [x for x in palavras if \"a\" in x]\n",
        "print(resultado)\n"
      ],
      "metadata": {
        "id": "XfSLtBLbe99t"
      },
      "execution_count": null,
      "outputs": []
    },
    {
      "cell_type": "code",
      "source": [
        "# Exercício 10 - Crie uma list comprehension que imprima os números menores que 5 em um intervalo de 1 a 10\n",
        "lista_numeros = [x for x in range(10) if x < 5]\n",
        "print(lista_numeros)"
      ],
      "metadata": {
        "id": "_6f_wboWffCl"
      },
      "execution_count": null,
      "outputs": []
    },
    {
      "cell_type": "markdown",
      "source": [
        "#Lista de Exercícios 3 - Módulo 5"
      ],
      "metadata": {
        "id": "PmU6uOXrkN7X"
      }
    },
    {
      "cell_type": "code",
      "source": [
        "# Exercício 1 - Crie uma estrutura que pergunte ao usuário qual o dia da semana. Se o dia for igual a Domingo ou\n",
        "# igual a sábado, imprima na tela \"Hoje é dia de descanso\", caso contrário imprima na tela \"Você precisa trabalhar!\"\n",
        "\n",
        "dia_semana = input(\"Que dia é hoje? \")\n",
        "\n",
        "if dia_semana == \"Sábado\" or dia_semana == \"Domingo\":\n",
        "  print(\"Hoje é dia de descanso\")\n",
        "else:\n",
        "  print(\"Você precisa trabalhar!\")"
      ],
      "metadata": {
        "id": "kdhT0DvRkS5Y"
      },
      "execution_count": null,
      "outputs": []
    },
    {
      "cell_type": "code",
      "source": [
        "# Exercício 2 - Crie uma lista de 5 frutas e verifique se a fruta 'Morango' faz parte da lista\n",
        "\n",
        "fruit_list = ['Manga', 'Abacaxi', 'Morango', 'Uva', 'Pêra']\n",
        "\n",
        "if 'Morango' in fruit_list:\n",
        "    print(\"Morango faz parte da lista!\")\n",
        "else:\n",
        "    print(\"Morango não faz parte da lista!\")"
      ],
      "metadata": {
        "id": "vKtn-E4jlp-R"
      },
      "execution_count": null,
      "outputs": []
    },
    {
      "cell_type": "code",
      "source": [
        "# Exercício 3 - Crie uma tupla de 4 elementos, multiplique cada elemento da tupla por 2 e guarde os resultados em uma\n",
        "# lista\n",
        "\n",
        "numeros = (1.5, 2, 4, 6)\n",
        "resultado = []\n",
        "\n",
        "for x in numeros:\n",
        "    resultado.append(x * 2)\n",
        "\n",
        "print(resultado)\n",
        "\n"
      ],
      "metadata": {
        "id": "Vh4VhuhHnk5A"
      },
      "execution_count": null,
      "outputs": []
    },
    {
      "cell_type": "code",
      "source": [
        "# Exercício 4 - Crie uma sequência de números pares entre 100 e 150 e imprima na tela\n",
        "\n",
        "for x in range(100,151):\n",
        "  if x % 2 == 0:\n",
        "    print(x)"
      ],
      "metadata": {
        "id": "eMrwMNbwqen2"
      },
      "execution_count": null,
      "outputs": []
    },
    {
      "cell_type": "code",
      "source": [
        " #Exercício 5 - Crie uma variável chamada temperatura e atribua o valor 40. Enquanto temperatura for maior que 35,\n",
        "# imprima as temperaturas na tela\n",
        "\n",
        "temperatura = 40\n",
        "\n",
        "while temperatura > 35:\n",
        "  print(temperatura)\n",
        "  temperatura = temperatura - 1"
      ],
      "metadata": {
        "id": "qV5JC6rkrQ0p"
      },
      "execution_count": null,
      "outputs": []
    },
    {
      "cell_type": "code",
      "source": [
        "# Exercício 6 - Crie uma variável chamada contador = 0. Enquanto counter for menor que 100, imprima os valores na tela,\n",
        "# mas quando for encontrado o valor 23, interrompa a execução do programa\n",
        "\n",
        "contador = 0\n",
        "while contador < 100:\n",
        "    if contador == 24:\n",
        "        break\n",
        "    print(contador)\n",
        "    contador += 1\n"
      ],
      "metadata": {
        "id": "hSWVzwGbr9Dv"
      },
      "execution_count": null,
      "outputs": []
    },
    {
      "cell_type": "code",
      "source": [
        "# Exercício 7 - Crie uma lista vazia e uma variável com valor 4. Enquanto o valor da variável for menor ou igual a 20,\n",
        "# adicione à lista, apenas os valores pares e imprima a lista\n",
        "\n",
        "lista_vazia = []\n",
        "n = 4\n",
        "\n",
        "while n <= 20:\n",
        "    if n % 2 == 0:\n",
        "        lista_vazia.append(n)\n",
        "    n += 1\n",
        "\n",
        "print(lista_vazia)\n",
        "\n"
      ],
      "metadata": {
        "id": "UW6P772xxH8e"
      },
      "execution_count": null,
      "outputs": []
    },
    {
      "cell_type": "code",
      "source": [
        "# Exercício 8 - Transforme o resultado desta função range em uma lista: range(5, 45, 2)\n",
        "\n",
        "nums = range(5, 45, 2)\n",
        "\n",
        "\n",
        "nums_lista = list(nums)\n",
        "print(nums_lista)"
      ],
      "metadata": {
        "id": "C3ihbAYqy2kO"
      },
      "execution_count": null,
      "outputs": []
    },
    {
      "cell_type": "code",
      "source": [
        "# Exercício 9 - Faça a correção dos erros no código abaixo e execute o programa. Dica: são 3 erros.\n",
        "\n",
        "temperatura = float(input('Qual a temperatura? '))\n",
        "if temperatura > 30:\n",
        "  print('Vista roupas leves.')\n",
        "else:\n",
        "  print('Busque seus casacos.')"
      ],
      "metadata": {
        "id": "wvrgCYtXzCXt"
      },
      "execution_count": null,
      "outputs": []
    },
    {
      "cell_type": "code",
      "source": [
        "# Exercício 10 - Faça um programa que conte quantas vezes a letra \"r\" aparece na frase abaixo. Use um placeholder na\n",
        "# sua instrução de impressão\n",
        "\n",
        "frase = \"A gratidão é a virtude das almas nobres. O quão feliz é uma pessoa depende da profundidade de sua gratidão.\"\n",
        "\n",
        "contagem = frase.count('r')\n",
        "\n",
        "print(\"A letra 'r' aparece {} vezes na frase.\".format(contagem))\n"
      ],
      "metadata": {
        "id": "-5zhTcdgzHVs"
      },
      "execution_count": null,
      "outputs": []
    },
    {
      "cell_type": "markdown",
      "source": [
        "#Lista de Exercícios 4 - Módulo 6"
      ],
      "metadata": {
        "id": "en78i-8wBO10"
      }
    },
    {
      "cell_type": "code",
      "source": [
        "# Exercício 1 - Crie uma lista de 3 elementos e calcule a terceira potência de cada elemento.\n",
        "\n",
        "list1 = [3,4,5]\n",
        "cubo = [item**3 for item in list1]\n",
        "print(cubo)\n"
      ],
      "metadata": {
        "id": "AOKw6vx3BW1N"
      },
      "execution_count": null,
      "outputs": []
    },
    {
      "cell_type": "code",
      "source": [
        "# Exercício 2 - Reescreva o código abaixo, usando a função map(). O resultado final deve ser o mesmo!\n",
        "palavras = 'A Data Science Academy oferce os melhores cursos de análise de dados do Brasil.'.split()\n",
        "resultado = [[w.upper(), w.lower(), len(w)] for w in palavras]\n",
        "for i in resultado:\n",
        "    print (i)\n",
        "\n",
        "# Resposta\n",
        "\n",
        "resultado = map(lambda w: [w.upper(), w.lower(), len(w)], palavras)\n",
        "for i in resultado:\n",
        "    print (i)"
      ],
      "metadata": {
        "id": "BBBnog-yB8YG"
      },
      "execution_count": null,
      "outputs": []
    },
    {
      "cell_type": "code",
      "source": [
        "# Exercício 3 - Calcule a matriz transposta da matriz abaixo.\n",
        "# Caso não saiba o que é matriz transposta, visite este link: https://pt.wikipedia.org/wiki/Matriz_transposta\n",
        "# Matriz transposta é um conceito fundamental na construção de redes neurais artificiais, base de sistemas de IA.\n",
        "matrix = [[1, 2],[3,4],[5,6],[7,8]]\n",
        "\n",
        "# Resposta\n",
        "\n",
        "matrix = [[1, 2], [3, 4], [5, 6], [7, 8]]\n",
        "transposta = [[row[i] for row in matrix] for i in range(2)]\n",
        "print(transposta)\n",
        "\n"
      ],
      "metadata": {
        "id": "woFJtZLYCLGN"
      },
      "execution_count": null,
      "outputs": []
    },
    {
      "cell_type": "code",
      "source": [
        "# Exercício 4 - Crie duas funções, uma para elevar um número ao quadrado e outra para elevar ao cubo.\n",
        "# Aplique as duas funções aos elementos da lista abaixo.\n",
        "# Obs: as duas funções devem ser aplicadas simultaneamente.\n",
        "lista = [0, 1, 2, 3, 4]\n",
        "\n",
        "def square(x):\n",
        "        return (x**2)\n",
        "\n",
        "def cube(x):\n",
        "        return (x**3)\n",
        "\n",
        "funcs = [square, cube]\n",
        "\n",
        "for i in lista:\n",
        "    valor = map(lambda x: x(i), funcs)\n",
        "    print(list((valor)))\n"
      ],
      "metadata": {
        "id": "cKCMO_9tC0VO"
      },
      "execution_count": null,
      "outputs": []
    },
    {
      "cell_type": "code",
      "source": [
        "# Exercício 5 - Abaixo você encontra duas listas. Faça com que cada elemento da listaA seja elevado\n",
        "# ao elemento correspondente na listaB.\n",
        "listaA = [2, 3, 4]\n",
        "listaB = [10, 11, 12]\n",
        "\n",
        "list(map(pow, listaA, listaB))\n"
      ],
      "metadata": {
        "id": "AU81-FZBDQjU"
      },
      "execution_count": null,
      "outputs": []
    },
    {
      "cell_type": "code",
      "source": [
        "# Exercício 6 - Considerando o range de valores abaixo, use a função filter() para retornar\n",
        "# apenas os valores negativos.\n",
        "range(-5, 5)\n",
        "\n",
        "resultado = list(filter(lambda x: x < 0, range(-5, 5)))\n",
        "\n",
        "print(resultado)\n"
      ],
      "metadata": {
        "id": "Q-SXHk6wDdcV"
      },
      "execution_count": null,
      "outputs": []
    },
    {
      "cell_type": "code",
      "source": [
        "# Exercício 7 - Usando a função filter(), encontre os valores que são comuns às duas listas abaixo.\n",
        "a = [1,2,3,5,7,9]\n",
        "b = [2,3,5,6,7,8]\n",
        "\n",
        "valores_comuns = list(filter(lambda x: x in b, a))\n",
        "\n",
        "print(valores_comuns)"
      ],
      "metadata": {
        "id": "BIi6Y4PnD0jx"
      },
      "execution_count": null,
      "outputs": []
    },
    {
      "cell_type": "code",
      "source": [
        "# Exercício 8 - Considere os dois dicionários abaixo.\n",
        "# Crie um terceiro dicionário com as chaves do dicionário 1 e os valores do dicionário 2.\n",
        "dict1 = {'a': 1, 'b': 2}\n",
        "dict2 = {'c': 4, 'd': 5}\n",
        "\n",
        "def trocaValores(d1, d2):\n",
        "    dicTemp = {}\n",
        "\n",
        "    for d1key, d2val in zip(d1,d2.values()):\n",
        "        dicTemp[d1key] = d2val\n",
        "\n",
        "    return dicTemp\n",
        "\n",
        "dict3 = trocaValores(dict1, dict2)\n",
        "print(dict3)"
      ],
      "metadata": {
        "id": "eE0qkJAUEEdN"
      },
      "execution_count": null,
      "outputs": []
    },
    {
      "cell_type": "code",
      "source": [
        "# Exercício 9 - Considere a lista abaixo e retorne apenas os elementos cujo índice for maior que 5.\n",
        "lista = ['a', 'b', 'c', 'd', 'e', 'f', 'g', 'h']\n",
        "\n",
        "elementos = [elemento for indice, elemento in enumerate(lista) if indice > 5]\n",
        "\n",
        "print(elementos)\n"
      ],
      "metadata": {
        "id": "AzlQRcTJFMw1"
      },
      "execution_count": null,
      "outputs": []
    },
    {
      "cell_type": "code",
      "source": [
        "# Exercício 10 - Crie um regex em Python para extrair a palavra que aparece depois das palavras\n",
        "# Data e Science na frase: 'A Data Science Academy oferce os melhores cursos de análise de dados do Brasil.'\n",
        "import re\n",
        "texto = 'A Data Science Academy oferece os melhores cursos de análise de dados do Brasil.'\n",
        "\n",
        "padrao = r'(?<=Data\\s)(\\w+)|(?<=Science\\s)(\\w+)'\n",
        "\n",
        "resultado = re.findall(r'Data Science (\\w+)', texto)\n",
        "print(\"A palavra após 'Data Science' é:\", resultado[0])"
      ],
      "metadata": {
        "id": "KZlCDekfFg1E"
      },
      "execution_count": null,
      "outputs": []
    }
  ]
}